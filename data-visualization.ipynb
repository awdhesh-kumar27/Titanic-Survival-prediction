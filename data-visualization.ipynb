{
 "cells": [
  {
   "cell_type": "code",
   "execution_count": 94,
   "id": "12a40eac",
   "metadata": {
    "execution": {
     "iopub.execute_input": "2022-10-13T13:44:22.525903Z",
     "iopub.status.busy": "2022-10-13T13:44:22.525405Z",
     "iopub.status.idle": "2022-10-13T13:44:23.638346Z",
     "shell.execute_reply": "2022-10-13T13:44:23.637591Z"
    },
    "papermill": {
     "duration": 1.162372,
     "end_time": "2022-10-13T13:44:23.640802",
     "exception": false,
     "start_time": "2022-10-13T13:44:22.478430",
     "status": "completed"
    },
    "tags": []
   },
   "outputs": [],
   "source": [
    "import pandas as pd\n",
    "import numpy as np\n",
    "import seaborn as sns\n",
    "import matplotlib.pyplot as plt\n"
   ]
  },
  {
   "cell_type": "code",
   "execution_count": 95,
   "id": "06fcf744",
   "metadata": {
    "execution": {
     "iopub.execute_input": "2022-10-13T13:44:23.729542Z",
     "iopub.status.busy": "2022-10-13T13:44:23.728715Z",
     "iopub.status.idle": "2022-10-13T13:44:25.035493Z",
     "shell.execute_reply": "2022-10-13T13:44:25.034733Z"
    },
    "papermill": {
     "duration": 1.353293,
     "end_time": "2022-10-13T13:44:25.037721",
     "exception": false,
     "start_time": "2022-10-13T13:44:23.684428",
     "status": "completed"
    },
    "tags": []
   },
   "outputs": [],
   "source": [
    "titanic = sns.load_dataset(\"titanic\")\n"
   ]
  },
  {
   "cell_type": "code",
   "execution_count": 96,
   "id": "685e1b0d",
   "metadata": {
    "execution": {
     "iopub.execute_input": "2022-10-13T13:44:25.129156Z",
     "iopub.status.busy": "2022-10-13T13:44:25.128547Z",
     "iopub.status.idle": "2022-10-13T13:44:25.155278Z",
     "shell.execute_reply": "2022-10-13T13:44:25.154554Z"
    },
    "papermill": {
     "duration": 0.074186,
     "end_time": "2022-10-13T13:44:25.157908",
     "exception": false,
     "start_time": "2022-10-13T13:44:25.083722",
     "status": "completed"
    },
    "tags": []
   },
   "outputs": [
    {
     "data": {
      "text/html": [
       "<div>\n",
       "<style scoped>\n",
       "    .dataframe tbody tr th:only-of-type {\n",
       "        vertical-align: middle;\n",
       "    }\n",
       "\n",
       "    .dataframe tbody tr th {\n",
       "        vertical-align: top;\n",
       "    }\n",
       "\n",
       "    .dataframe thead th {\n",
       "        text-align: right;\n",
       "    }\n",
       "</style>\n",
       "<table border=\"1\" class=\"dataframe\">\n",
       "  <thead>\n",
       "    <tr style=\"text-align: right;\">\n",
       "      <th></th>\n",
       "      <th>survived</th>\n",
       "      <th>pclass</th>\n",
       "      <th>sex</th>\n",
       "      <th>age</th>\n",
       "      <th>sibsp</th>\n",
       "      <th>parch</th>\n",
       "      <th>fare</th>\n",
       "      <th>embarked</th>\n",
       "      <th>class</th>\n",
       "      <th>who</th>\n",
       "      <th>adult_male</th>\n",
       "      <th>deck</th>\n",
       "      <th>embark_town</th>\n",
       "      <th>alive</th>\n",
       "      <th>alone</th>\n",
       "    </tr>\n",
       "  </thead>\n",
       "  <tbody>\n",
       "    <tr>\n",
       "      <th>0</th>\n",
       "      <td>0</td>\n",
       "      <td>3</td>\n",
       "      <td>male</td>\n",
       "      <td>22.0</td>\n",
       "      <td>1</td>\n",
       "      <td>0</td>\n",
       "      <td>7.2500</td>\n",
       "      <td>S</td>\n",
       "      <td>Third</td>\n",
       "      <td>man</td>\n",
       "      <td>True</td>\n",
       "      <td>NaN</td>\n",
       "      <td>Southampton</td>\n",
       "      <td>no</td>\n",
       "      <td>False</td>\n",
       "    </tr>\n",
       "    <tr>\n",
       "      <th>1</th>\n",
       "      <td>1</td>\n",
       "      <td>1</td>\n",
       "      <td>female</td>\n",
       "      <td>38.0</td>\n",
       "      <td>1</td>\n",
       "      <td>0</td>\n",
       "      <td>71.2833</td>\n",
       "      <td>C</td>\n",
       "      <td>First</td>\n",
       "      <td>woman</td>\n",
       "      <td>False</td>\n",
       "      <td>C</td>\n",
       "      <td>Cherbourg</td>\n",
       "      <td>yes</td>\n",
       "      <td>False</td>\n",
       "    </tr>\n",
       "    <tr>\n",
       "      <th>2</th>\n",
       "      <td>1</td>\n",
       "      <td>3</td>\n",
       "      <td>female</td>\n",
       "      <td>26.0</td>\n",
       "      <td>0</td>\n",
       "      <td>0</td>\n",
       "      <td>7.9250</td>\n",
       "      <td>S</td>\n",
       "      <td>Third</td>\n",
       "      <td>woman</td>\n",
       "      <td>False</td>\n",
       "      <td>NaN</td>\n",
       "      <td>Southampton</td>\n",
       "      <td>yes</td>\n",
       "      <td>True</td>\n",
       "    </tr>\n",
       "    <tr>\n",
       "      <th>3</th>\n",
       "      <td>1</td>\n",
       "      <td>1</td>\n",
       "      <td>female</td>\n",
       "      <td>35.0</td>\n",
       "      <td>1</td>\n",
       "      <td>0</td>\n",
       "      <td>53.1000</td>\n",
       "      <td>S</td>\n",
       "      <td>First</td>\n",
       "      <td>woman</td>\n",
       "      <td>False</td>\n",
       "      <td>C</td>\n",
       "      <td>Southampton</td>\n",
       "      <td>yes</td>\n",
       "      <td>False</td>\n",
       "    </tr>\n",
       "    <tr>\n",
       "      <th>4</th>\n",
       "      <td>0</td>\n",
       "      <td>3</td>\n",
       "      <td>male</td>\n",
       "      <td>35.0</td>\n",
       "      <td>0</td>\n",
       "      <td>0</td>\n",
       "      <td>8.0500</td>\n",
       "      <td>S</td>\n",
       "      <td>Third</td>\n",
       "      <td>man</td>\n",
       "      <td>True</td>\n",
       "      <td>NaN</td>\n",
       "      <td>Southampton</td>\n",
       "      <td>no</td>\n",
       "      <td>True</td>\n",
       "    </tr>\n",
       "  </tbody>\n",
       "</table>\n",
       "</div>"
      ],
      "text/plain": [
       "   survived  pclass     sex   age  sibsp  parch     fare embarked  class  \\\n",
       "0         0       3    male  22.0      1      0   7.2500        S  Third   \n",
       "1         1       1  female  38.0      1      0  71.2833        C  First   \n",
       "2         1       3  female  26.0      0      0   7.9250        S  Third   \n",
       "3         1       1  female  35.0      1      0  53.1000        S  First   \n",
       "4         0       3    male  35.0      0      0   8.0500        S  Third   \n",
       "\n",
       "     who  adult_male deck  embark_town alive  alone  \n",
       "0    man        True  NaN  Southampton    no  False  \n",
       "1  woman       False    C    Cherbourg   yes  False  \n",
       "2  woman       False  NaN  Southampton   yes   True  \n",
       "3  woman       False    C  Southampton   yes  False  \n",
       "4    man        True  NaN  Southampton    no   True  "
      ]
     },
     "execution_count": 96,
     "metadata": {},
     "output_type": "execute_result"
    }
   ],
   "source": [
    "titanic.head()\n"
   ]
  },
  {
   "cell_type": "code",
   "execution_count": 97,
   "id": "08964080",
   "metadata": {
    "execution": {
     "iopub.execute_input": "2022-10-13T13:44:25.248403Z",
     "iopub.status.busy": "2022-10-13T13:44:25.247802Z",
     "iopub.status.idle": "2022-10-13T13:44:25.256386Z",
     "shell.execute_reply": "2022-10-13T13:44:25.255154Z"
    },
    "papermill": {
     "duration": 0.056764,
     "end_time": "2022-10-13T13:44:25.258732",
     "exception": false,
     "start_time": "2022-10-13T13:44:25.201968",
     "status": "completed"
    },
    "tags": []
   },
   "outputs": [],
   "source": [
    "titanic.drop('alive',axis = 1,inplace= True)"
   ]
  },
  {
   "cell_type": "code",
   "execution_count": 52,
   "id": "cead001c",
   "metadata": {
    "execution": {
     "iopub.execute_input": "2022-10-13T13:44:25.349926Z",
     "iopub.status.busy": "2022-10-13T13:44:25.349318Z",
     "iopub.status.idle": "2022-10-13T13:44:25.366255Z",
     "shell.execute_reply": "2022-10-13T13:44:25.365578Z"
    },
    "papermill": {
     "duration": 0.064261,
     "end_time": "2022-10-13T13:44:25.368162",
     "exception": false,
     "start_time": "2022-10-13T13:44:25.303901",
     "status": "completed"
    },
    "tags": []
   },
   "outputs": [
    {
     "data": {
      "text/html": [
       "<div>\n",
       "<style scoped>\n",
       "    .dataframe tbody tr th:only-of-type {\n",
       "        vertical-align: middle;\n",
       "    }\n",
       "\n",
       "    .dataframe tbody tr th {\n",
       "        vertical-align: top;\n",
       "    }\n",
       "\n",
       "    .dataframe thead th {\n",
       "        text-align: right;\n",
       "    }\n",
       "</style>\n",
       "<table border=\"1\" class=\"dataframe\">\n",
       "  <thead>\n",
       "    <tr style=\"text-align: right;\">\n",
       "      <th></th>\n",
       "      <th>survived</th>\n",
       "      <th>pclass</th>\n",
       "      <th>sex</th>\n",
       "      <th>age</th>\n",
       "      <th>sibsp</th>\n",
       "      <th>parch</th>\n",
       "      <th>fare</th>\n",
       "      <th>embarked</th>\n",
       "      <th>class</th>\n",
       "      <th>who</th>\n",
       "      <th>adult_male</th>\n",
       "      <th>deck</th>\n",
       "      <th>embark_town</th>\n",
       "      <th>alone</th>\n",
       "    </tr>\n",
       "  </thead>\n",
       "  <tbody>\n",
       "    <tr>\n",
       "      <th>0</th>\n",
       "      <td>0</td>\n",
       "      <td>3</td>\n",
       "      <td>male</td>\n",
       "      <td>22.0</td>\n",
       "      <td>1</td>\n",
       "      <td>0</td>\n",
       "      <td>7.2500</td>\n",
       "      <td>S</td>\n",
       "      <td>Third</td>\n",
       "      <td>man</td>\n",
       "      <td>True</td>\n",
       "      <td>NaN</td>\n",
       "      <td>Southampton</td>\n",
       "      <td>False</td>\n",
       "    </tr>\n",
       "    <tr>\n",
       "      <th>1</th>\n",
       "      <td>1</td>\n",
       "      <td>1</td>\n",
       "      <td>female</td>\n",
       "      <td>38.0</td>\n",
       "      <td>1</td>\n",
       "      <td>0</td>\n",
       "      <td>71.2833</td>\n",
       "      <td>C</td>\n",
       "      <td>First</td>\n",
       "      <td>woman</td>\n",
       "      <td>False</td>\n",
       "      <td>C</td>\n",
       "      <td>Cherbourg</td>\n",
       "      <td>False</td>\n",
       "    </tr>\n",
       "    <tr>\n",
       "      <th>2</th>\n",
       "      <td>1</td>\n",
       "      <td>3</td>\n",
       "      <td>female</td>\n",
       "      <td>26.0</td>\n",
       "      <td>0</td>\n",
       "      <td>0</td>\n",
       "      <td>7.9250</td>\n",
       "      <td>S</td>\n",
       "      <td>Third</td>\n",
       "      <td>woman</td>\n",
       "      <td>False</td>\n",
       "      <td>NaN</td>\n",
       "      <td>Southampton</td>\n",
       "      <td>True</td>\n",
       "    </tr>\n",
       "    <tr>\n",
       "      <th>3</th>\n",
       "      <td>1</td>\n",
       "      <td>1</td>\n",
       "      <td>female</td>\n",
       "      <td>35.0</td>\n",
       "      <td>1</td>\n",
       "      <td>0</td>\n",
       "      <td>53.1000</td>\n",
       "      <td>S</td>\n",
       "      <td>First</td>\n",
       "      <td>woman</td>\n",
       "      <td>False</td>\n",
       "      <td>C</td>\n",
       "      <td>Southampton</td>\n",
       "      <td>False</td>\n",
       "    </tr>\n",
       "    <tr>\n",
       "      <th>4</th>\n",
       "      <td>0</td>\n",
       "      <td>3</td>\n",
       "      <td>male</td>\n",
       "      <td>35.0</td>\n",
       "      <td>0</td>\n",
       "      <td>0</td>\n",
       "      <td>8.0500</td>\n",
       "      <td>S</td>\n",
       "      <td>Third</td>\n",
       "      <td>man</td>\n",
       "      <td>True</td>\n",
       "      <td>NaN</td>\n",
       "      <td>Southampton</td>\n",
       "      <td>True</td>\n",
       "    </tr>\n",
       "  </tbody>\n",
       "</table>\n",
       "</div>"
      ],
      "text/plain": [
       "   survived  pclass     sex   age  sibsp  parch     fare embarked  class  \\\n",
       "0         0       3    male  22.0      1      0   7.2500        S  Third   \n",
       "1         1       1  female  38.0      1      0  71.2833        C  First   \n",
       "2         1       3  female  26.0      0      0   7.9250        S  Third   \n",
       "3         1       1  female  35.0      1      0  53.1000        S  First   \n",
       "4         0       3    male  35.0      0      0   8.0500        S  Third   \n",
       "\n",
       "     who  adult_male deck  embark_town  alone  \n",
       "0    man        True  NaN  Southampton  False  \n",
       "1  woman       False    C    Cherbourg  False  \n",
       "2  woman       False  NaN  Southampton   True  \n",
       "3  woman       False    C  Southampton  False  \n",
       "4    man        True  NaN  Southampton   True  "
      ]
     },
     "execution_count": 52,
     "metadata": {},
     "output_type": "execute_result"
    }
   ],
   "source": [
    "titanic.head()"
   ]
  },
  {
   "cell_type": "code",
   "execution_count": 53,
   "id": "2c1ca721",
   "metadata": {
    "execution": {
     "iopub.execute_input": "2022-10-13T13:44:25.459546Z",
     "iopub.status.busy": "2022-10-13T13:44:25.458976Z",
     "iopub.status.idle": "2022-10-13T13:44:25.463909Z",
     "shell.execute_reply": "2022-10-13T13:44:25.463280Z"
    },
    "papermill": {
     "duration": 0.053292,
     "end_time": "2022-10-13T13:44:25.465984",
     "exception": false,
     "start_time": "2022-10-13T13:44:25.412692",
     "status": "completed"
    },
    "tags": []
   },
   "outputs": [],
   "source": [
    "titanic.drop('embarked',axis = 1,inplace = True)"
   ]
  },
  {
   "cell_type": "code",
   "execution_count": 54,
   "id": "35ed7121",
   "metadata": {
    "execution": {
     "iopub.execute_input": "2022-10-13T13:44:25.555747Z",
     "iopub.status.busy": "2022-10-13T13:44:25.555410Z",
     "iopub.status.idle": "2022-10-13T13:44:25.572998Z",
     "shell.execute_reply": "2022-10-13T13:44:25.572034Z"
    },
    "papermill": {
     "duration": 0.065161,
     "end_time": "2022-10-13T13:44:25.575201",
     "exception": false,
     "start_time": "2022-10-13T13:44:25.510040",
     "status": "completed"
    },
    "tags": []
   },
   "outputs": [
    {
     "data": {
      "text/html": [
       "<div>\n",
       "<style scoped>\n",
       "    .dataframe tbody tr th:only-of-type {\n",
       "        vertical-align: middle;\n",
       "    }\n",
       "\n",
       "    .dataframe tbody tr th {\n",
       "        vertical-align: top;\n",
       "    }\n",
       "\n",
       "    .dataframe thead th {\n",
       "        text-align: right;\n",
       "    }\n",
       "</style>\n",
       "<table border=\"1\" class=\"dataframe\">\n",
       "  <thead>\n",
       "    <tr style=\"text-align: right;\">\n",
       "      <th></th>\n",
       "      <th>survived</th>\n",
       "      <th>pclass</th>\n",
       "      <th>sex</th>\n",
       "      <th>age</th>\n",
       "      <th>sibsp</th>\n",
       "      <th>parch</th>\n",
       "      <th>fare</th>\n",
       "      <th>class</th>\n",
       "      <th>who</th>\n",
       "      <th>adult_male</th>\n",
       "      <th>deck</th>\n",
       "      <th>embark_town</th>\n",
       "      <th>alone</th>\n",
       "    </tr>\n",
       "  </thead>\n",
       "  <tbody>\n",
       "    <tr>\n",
       "      <th>0</th>\n",
       "      <td>0</td>\n",
       "      <td>3</td>\n",
       "      <td>male</td>\n",
       "      <td>22.0</td>\n",
       "      <td>1</td>\n",
       "      <td>0</td>\n",
       "      <td>7.2500</td>\n",
       "      <td>Third</td>\n",
       "      <td>man</td>\n",
       "      <td>True</td>\n",
       "      <td>NaN</td>\n",
       "      <td>Southampton</td>\n",
       "      <td>False</td>\n",
       "    </tr>\n",
       "    <tr>\n",
       "      <th>1</th>\n",
       "      <td>1</td>\n",
       "      <td>1</td>\n",
       "      <td>female</td>\n",
       "      <td>38.0</td>\n",
       "      <td>1</td>\n",
       "      <td>0</td>\n",
       "      <td>71.2833</td>\n",
       "      <td>First</td>\n",
       "      <td>woman</td>\n",
       "      <td>False</td>\n",
       "      <td>C</td>\n",
       "      <td>Cherbourg</td>\n",
       "      <td>False</td>\n",
       "    </tr>\n",
       "    <tr>\n",
       "      <th>2</th>\n",
       "      <td>1</td>\n",
       "      <td>3</td>\n",
       "      <td>female</td>\n",
       "      <td>26.0</td>\n",
       "      <td>0</td>\n",
       "      <td>0</td>\n",
       "      <td>7.9250</td>\n",
       "      <td>Third</td>\n",
       "      <td>woman</td>\n",
       "      <td>False</td>\n",
       "      <td>NaN</td>\n",
       "      <td>Southampton</td>\n",
       "      <td>True</td>\n",
       "    </tr>\n",
       "    <tr>\n",
       "      <th>3</th>\n",
       "      <td>1</td>\n",
       "      <td>1</td>\n",
       "      <td>female</td>\n",
       "      <td>35.0</td>\n",
       "      <td>1</td>\n",
       "      <td>0</td>\n",
       "      <td>53.1000</td>\n",
       "      <td>First</td>\n",
       "      <td>woman</td>\n",
       "      <td>False</td>\n",
       "      <td>C</td>\n",
       "      <td>Southampton</td>\n",
       "      <td>False</td>\n",
       "    </tr>\n",
       "    <tr>\n",
       "      <th>4</th>\n",
       "      <td>0</td>\n",
       "      <td>3</td>\n",
       "      <td>male</td>\n",
       "      <td>35.0</td>\n",
       "      <td>0</td>\n",
       "      <td>0</td>\n",
       "      <td>8.0500</td>\n",
       "      <td>Third</td>\n",
       "      <td>man</td>\n",
       "      <td>True</td>\n",
       "      <td>NaN</td>\n",
       "      <td>Southampton</td>\n",
       "      <td>True</td>\n",
       "    </tr>\n",
       "  </tbody>\n",
       "</table>\n",
       "</div>"
      ],
      "text/plain": [
       "   survived  pclass     sex   age  sibsp  parch     fare  class    who  \\\n",
       "0         0       3    male  22.0      1      0   7.2500  Third    man   \n",
       "1         1       1  female  38.0      1      0  71.2833  First  woman   \n",
       "2         1       3  female  26.0      0      0   7.9250  Third  woman   \n",
       "3         1       1  female  35.0      1      0  53.1000  First  woman   \n",
       "4         0       3    male  35.0      0      0   8.0500  Third    man   \n",
       "\n",
       "   adult_male deck  embark_town  alone  \n",
       "0        True  NaN  Southampton  False  \n",
       "1       False    C    Cherbourg  False  \n",
       "2       False  NaN  Southampton   True  \n",
       "3       False    C  Southampton  False  \n",
       "4        True  NaN  Southampton   True  "
      ]
     },
     "execution_count": 54,
     "metadata": {},
     "output_type": "execute_result"
    }
   ],
   "source": [
    "titanic.head()"
   ]
  },
  {
   "cell_type": "code",
   "execution_count": 55,
   "id": "7e7a359e",
   "metadata": {
    "execution": {
     "iopub.execute_input": "2022-10-13T13:44:25.667455Z",
     "iopub.status.busy": "2022-10-13T13:44:25.666895Z",
     "iopub.status.idle": "2022-10-13T13:44:25.671579Z",
     "shell.execute_reply": "2022-10-13T13:44:25.670923Z"
    },
    "papermill": {
     "duration": 0.053342,
     "end_time": "2022-10-13T13:44:25.673532",
     "exception": false,
     "start_time": "2022-10-13T13:44:25.620190",
     "status": "completed"
    },
    "tags": []
   },
   "outputs": [],
   "source": [
    "titanic['Survived'] = titanic['survived']"
   ]
  },
  {
   "cell_type": "code",
   "execution_count": 56,
   "id": "200c0bf0",
   "metadata": {
    "execution": {
     "iopub.execute_input": "2022-10-13T13:44:25.764704Z",
     "iopub.status.busy": "2022-10-13T13:44:25.764141Z",
     "iopub.status.idle": "2022-10-13T13:44:25.781042Z",
     "shell.execute_reply": "2022-10-13T13:44:25.780157Z"
    },
    "papermill": {
     "duration": 0.065189,
     "end_time": "2022-10-13T13:44:25.783355",
     "exception": false,
     "start_time": "2022-10-13T13:44:25.718166",
     "status": "completed"
    },
    "tags": []
   },
   "outputs": [
    {
     "data": {
      "text/html": [
       "<div>\n",
       "<style scoped>\n",
       "    .dataframe tbody tr th:only-of-type {\n",
       "        vertical-align: middle;\n",
       "    }\n",
       "\n",
       "    .dataframe tbody tr th {\n",
       "        vertical-align: top;\n",
       "    }\n",
       "\n",
       "    .dataframe thead th {\n",
       "        text-align: right;\n",
       "    }\n",
       "</style>\n",
       "<table border=\"1\" class=\"dataframe\">\n",
       "  <thead>\n",
       "    <tr style=\"text-align: right;\">\n",
       "      <th></th>\n",
       "      <th>survived</th>\n",
       "      <th>pclass</th>\n",
       "      <th>sex</th>\n",
       "      <th>age</th>\n",
       "      <th>sibsp</th>\n",
       "      <th>parch</th>\n",
       "      <th>fare</th>\n",
       "      <th>class</th>\n",
       "      <th>who</th>\n",
       "      <th>adult_male</th>\n",
       "      <th>deck</th>\n",
       "      <th>embark_town</th>\n",
       "      <th>alone</th>\n",
       "      <th>Survived</th>\n",
       "    </tr>\n",
       "  </thead>\n",
       "  <tbody>\n",
       "    <tr>\n",
       "      <th>0</th>\n",
       "      <td>0</td>\n",
       "      <td>3</td>\n",
       "      <td>male</td>\n",
       "      <td>22.0</td>\n",
       "      <td>1</td>\n",
       "      <td>0</td>\n",
       "      <td>7.2500</td>\n",
       "      <td>Third</td>\n",
       "      <td>man</td>\n",
       "      <td>True</td>\n",
       "      <td>NaN</td>\n",
       "      <td>Southampton</td>\n",
       "      <td>False</td>\n",
       "      <td>0</td>\n",
       "    </tr>\n",
       "    <tr>\n",
       "      <th>1</th>\n",
       "      <td>1</td>\n",
       "      <td>1</td>\n",
       "      <td>female</td>\n",
       "      <td>38.0</td>\n",
       "      <td>1</td>\n",
       "      <td>0</td>\n",
       "      <td>71.2833</td>\n",
       "      <td>First</td>\n",
       "      <td>woman</td>\n",
       "      <td>False</td>\n",
       "      <td>C</td>\n",
       "      <td>Cherbourg</td>\n",
       "      <td>False</td>\n",
       "      <td>1</td>\n",
       "    </tr>\n",
       "    <tr>\n",
       "      <th>2</th>\n",
       "      <td>1</td>\n",
       "      <td>3</td>\n",
       "      <td>female</td>\n",
       "      <td>26.0</td>\n",
       "      <td>0</td>\n",
       "      <td>0</td>\n",
       "      <td>7.9250</td>\n",
       "      <td>Third</td>\n",
       "      <td>woman</td>\n",
       "      <td>False</td>\n",
       "      <td>NaN</td>\n",
       "      <td>Southampton</td>\n",
       "      <td>True</td>\n",
       "      <td>1</td>\n",
       "    </tr>\n",
       "    <tr>\n",
       "      <th>3</th>\n",
       "      <td>1</td>\n",
       "      <td>1</td>\n",
       "      <td>female</td>\n",
       "      <td>35.0</td>\n",
       "      <td>1</td>\n",
       "      <td>0</td>\n",
       "      <td>53.1000</td>\n",
       "      <td>First</td>\n",
       "      <td>woman</td>\n",
       "      <td>False</td>\n",
       "      <td>C</td>\n",
       "      <td>Southampton</td>\n",
       "      <td>False</td>\n",
       "      <td>1</td>\n",
       "    </tr>\n",
       "    <tr>\n",
       "      <th>4</th>\n",
       "      <td>0</td>\n",
       "      <td>3</td>\n",
       "      <td>male</td>\n",
       "      <td>35.0</td>\n",
       "      <td>0</td>\n",
       "      <td>0</td>\n",
       "      <td>8.0500</td>\n",
       "      <td>Third</td>\n",
       "      <td>man</td>\n",
       "      <td>True</td>\n",
       "      <td>NaN</td>\n",
       "      <td>Southampton</td>\n",
       "      <td>True</td>\n",
       "      <td>0</td>\n",
       "    </tr>\n",
       "  </tbody>\n",
       "</table>\n",
       "</div>"
      ],
      "text/plain": [
       "   survived  pclass     sex   age  sibsp  parch     fare  class    who  \\\n",
       "0         0       3    male  22.0      1      0   7.2500  Third    man   \n",
       "1         1       1  female  38.0      1      0  71.2833  First  woman   \n",
       "2         1       3  female  26.0      0      0   7.9250  Third  woman   \n",
       "3         1       1  female  35.0      1      0  53.1000  First  woman   \n",
       "4         0       3    male  35.0      0      0   8.0500  Third    man   \n",
       "\n",
       "   adult_male deck  embark_town  alone  Survived  \n",
       "0        True  NaN  Southampton  False         0  \n",
       "1       False    C    Cherbourg  False         1  \n",
       "2       False  NaN  Southampton   True         1  \n",
       "3       False    C  Southampton  False         1  \n",
       "4        True  NaN  Southampton   True         0  "
      ]
     },
     "execution_count": 56,
     "metadata": {},
     "output_type": "execute_result"
    }
   ],
   "source": [
    "titanic.head()"
   ]
  },
  {
   "cell_type": "code",
   "execution_count": 57,
   "id": "43bbc776",
   "metadata": {
    "execution": {
     "iopub.execute_input": "2022-10-13T13:44:25.876764Z",
     "iopub.status.busy": "2022-10-13T13:44:25.876435Z",
     "iopub.status.idle": "2022-10-13T13:44:25.882653Z",
     "shell.execute_reply": "2022-10-13T13:44:25.881807Z"
    },
    "papermill": {
     "duration": 0.054914,
     "end_time": "2022-10-13T13:44:25.884806",
     "exception": false,
     "start_time": "2022-10-13T13:44:25.829892",
     "status": "completed"
    },
    "tags": []
   },
   "outputs": [],
   "source": [
    "titanic.drop('survived',axis = 1,inplace= True)"
   ]
  },
  {
   "cell_type": "code",
   "execution_count": 58,
   "id": "bc433f73",
   "metadata": {
    "execution": {
     "iopub.execute_input": "2022-10-13T13:44:25.978902Z",
     "iopub.status.busy": "2022-10-13T13:44:25.978564Z",
     "iopub.status.idle": "2022-10-13T13:44:25.997368Z",
     "shell.execute_reply": "2022-10-13T13:44:25.996408Z"
    },
    "papermill": {
     "duration": 0.069294,
     "end_time": "2022-10-13T13:44:25.999405",
     "exception": false,
     "start_time": "2022-10-13T13:44:25.930111",
     "status": "completed"
    },
    "tags": []
   },
   "outputs": [
    {
     "data": {
      "text/html": [
       "<div>\n",
       "<style scoped>\n",
       "    .dataframe tbody tr th:only-of-type {\n",
       "        vertical-align: middle;\n",
       "    }\n",
       "\n",
       "    .dataframe tbody tr th {\n",
       "        vertical-align: top;\n",
       "    }\n",
       "\n",
       "    .dataframe thead th {\n",
       "        text-align: right;\n",
       "    }\n",
       "</style>\n",
       "<table border=\"1\" class=\"dataframe\">\n",
       "  <thead>\n",
       "    <tr style=\"text-align: right;\">\n",
       "      <th></th>\n",
       "      <th>pclass</th>\n",
       "      <th>sex</th>\n",
       "      <th>age</th>\n",
       "      <th>sibsp</th>\n",
       "      <th>parch</th>\n",
       "      <th>fare</th>\n",
       "      <th>class</th>\n",
       "      <th>who</th>\n",
       "      <th>adult_male</th>\n",
       "      <th>deck</th>\n",
       "      <th>embark_town</th>\n",
       "      <th>alone</th>\n",
       "      <th>Survived</th>\n",
       "    </tr>\n",
       "  </thead>\n",
       "  <tbody>\n",
       "    <tr>\n",
       "      <th>0</th>\n",
       "      <td>3</td>\n",
       "      <td>male</td>\n",
       "      <td>22.0</td>\n",
       "      <td>1</td>\n",
       "      <td>0</td>\n",
       "      <td>7.2500</td>\n",
       "      <td>Third</td>\n",
       "      <td>man</td>\n",
       "      <td>True</td>\n",
       "      <td>NaN</td>\n",
       "      <td>Southampton</td>\n",
       "      <td>False</td>\n",
       "      <td>0</td>\n",
       "    </tr>\n",
       "    <tr>\n",
       "      <th>1</th>\n",
       "      <td>1</td>\n",
       "      <td>female</td>\n",
       "      <td>38.0</td>\n",
       "      <td>1</td>\n",
       "      <td>0</td>\n",
       "      <td>71.2833</td>\n",
       "      <td>First</td>\n",
       "      <td>woman</td>\n",
       "      <td>False</td>\n",
       "      <td>C</td>\n",
       "      <td>Cherbourg</td>\n",
       "      <td>False</td>\n",
       "      <td>1</td>\n",
       "    </tr>\n",
       "    <tr>\n",
       "      <th>2</th>\n",
       "      <td>3</td>\n",
       "      <td>female</td>\n",
       "      <td>26.0</td>\n",
       "      <td>0</td>\n",
       "      <td>0</td>\n",
       "      <td>7.9250</td>\n",
       "      <td>Third</td>\n",
       "      <td>woman</td>\n",
       "      <td>False</td>\n",
       "      <td>NaN</td>\n",
       "      <td>Southampton</td>\n",
       "      <td>True</td>\n",
       "      <td>1</td>\n",
       "    </tr>\n",
       "    <tr>\n",
       "      <th>3</th>\n",
       "      <td>1</td>\n",
       "      <td>female</td>\n",
       "      <td>35.0</td>\n",
       "      <td>1</td>\n",
       "      <td>0</td>\n",
       "      <td>53.1000</td>\n",
       "      <td>First</td>\n",
       "      <td>woman</td>\n",
       "      <td>False</td>\n",
       "      <td>C</td>\n",
       "      <td>Southampton</td>\n",
       "      <td>False</td>\n",
       "      <td>1</td>\n",
       "    </tr>\n",
       "    <tr>\n",
       "      <th>4</th>\n",
       "      <td>3</td>\n",
       "      <td>male</td>\n",
       "      <td>35.0</td>\n",
       "      <td>0</td>\n",
       "      <td>0</td>\n",
       "      <td>8.0500</td>\n",
       "      <td>Third</td>\n",
       "      <td>man</td>\n",
       "      <td>True</td>\n",
       "      <td>NaN</td>\n",
       "      <td>Southampton</td>\n",
       "      <td>True</td>\n",
       "      <td>0</td>\n",
       "    </tr>\n",
       "  </tbody>\n",
       "</table>\n",
       "</div>"
      ],
      "text/plain": [
       "   pclass     sex   age  sibsp  parch     fare  class    who  adult_male deck  \\\n",
       "0       3    male  22.0      1      0   7.2500  Third    man        True  NaN   \n",
       "1       1  female  38.0      1      0  71.2833  First  woman       False    C   \n",
       "2       3  female  26.0      0      0   7.9250  Third  woman       False  NaN   \n",
       "3       1  female  35.0      1      0  53.1000  First  woman       False    C   \n",
       "4       3    male  35.0      0      0   8.0500  Third    man        True  NaN   \n",
       "\n",
       "   embark_town  alone  Survived  \n",
       "0  Southampton  False         0  \n",
       "1    Cherbourg  False         1  \n",
       "2  Southampton   True         1  \n",
       "3  Southampton  False         1  \n",
       "4  Southampton   True         0  "
      ]
     },
     "execution_count": 58,
     "metadata": {},
     "output_type": "execute_result"
    }
   ],
   "source": [
    "titanic.head()"
   ]
  },
  {
   "cell_type": "code",
   "execution_count": 59,
   "id": "677a7a2a",
   "metadata": {
    "execution": {
     "iopub.execute_input": "2022-10-13T13:44:26.095389Z",
     "iopub.status.busy": "2022-10-13T13:44:26.094417Z",
     "iopub.status.idle": "2022-10-13T13:44:26.099980Z",
     "shell.execute_reply": "2022-10-13T13:44:26.099270Z"
    },
    "papermill": {
     "duration": 0.05626,
     "end_time": "2022-10-13T13:44:26.102019",
     "exception": false,
     "start_time": "2022-10-13T13:44:26.045759",
     "status": "completed"
    },
    "tags": []
   },
   "outputs": [],
   "source": [
    "titanic.drop(['who','class'],axis = 1,inplace = True)"
   ]
  },
  {
   "cell_type": "code",
   "execution_count": 60,
   "id": "96e4cdf9",
   "metadata": {
    "execution": {
     "iopub.execute_input": "2022-10-13T13:44:26.197370Z",
     "iopub.status.busy": "2022-10-13T13:44:26.196625Z",
     "iopub.status.idle": "2022-10-13T13:44:26.213429Z",
     "shell.execute_reply": "2022-10-13T13:44:26.212690Z"
    },
    "papermill": {
     "duration": 0.066988,
     "end_time": "2022-10-13T13:44:26.215316",
     "exception": false,
     "start_time": "2022-10-13T13:44:26.148328",
     "status": "completed"
    },
    "tags": []
   },
   "outputs": [
    {
     "data": {
      "text/html": [
       "<div>\n",
       "<style scoped>\n",
       "    .dataframe tbody tr th:only-of-type {\n",
       "        vertical-align: middle;\n",
       "    }\n",
       "\n",
       "    .dataframe tbody tr th {\n",
       "        vertical-align: top;\n",
       "    }\n",
       "\n",
       "    .dataframe thead th {\n",
       "        text-align: right;\n",
       "    }\n",
       "</style>\n",
       "<table border=\"1\" class=\"dataframe\">\n",
       "  <thead>\n",
       "    <tr style=\"text-align: right;\">\n",
       "      <th></th>\n",
       "      <th>pclass</th>\n",
       "      <th>sex</th>\n",
       "      <th>age</th>\n",
       "      <th>sibsp</th>\n",
       "      <th>parch</th>\n",
       "      <th>fare</th>\n",
       "      <th>adult_male</th>\n",
       "      <th>deck</th>\n",
       "      <th>embark_town</th>\n",
       "      <th>alone</th>\n",
       "      <th>Survived</th>\n",
       "    </tr>\n",
       "  </thead>\n",
       "  <tbody>\n",
       "    <tr>\n",
       "      <th>0</th>\n",
       "      <td>3</td>\n",
       "      <td>male</td>\n",
       "      <td>22.0</td>\n",
       "      <td>1</td>\n",
       "      <td>0</td>\n",
       "      <td>7.2500</td>\n",
       "      <td>True</td>\n",
       "      <td>NaN</td>\n",
       "      <td>Southampton</td>\n",
       "      <td>False</td>\n",
       "      <td>0</td>\n",
       "    </tr>\n",
       "    <tr>\n",
       "      <th>1</th>\n",
       "      <td>1</td>\n",
       "      <td>female</td>\n",
       "      <td>38.0</td>\n",
       "      <td>1</td>\n",
       "      <td>0</td>\n",
       "      <td>71.2833</td>\n",
       "      <td>False</td>\n",
       "      <td>C</td>\n",
       "      <td>Cherbourg</td>\n",
       "      <td>False</td>\n",
       "      <td>1</td>\n",
       "    </tr>\n",
       "    <tr>\n",
       "      <th>2</th>\n",
       "      <td>3</td>\n",
       "      <td>female</td>\n",
       "      <td>26.0</td>\n",
       "      <td>0</td>\n",
       "      <td>0</td>\n",
       "      <td>7.9250</td>\n",
       "      <td>False</td>\n",
       "      <td>NaN</td>\n",
       "      <td>Southampton</td>\n",
       "      <td>True</td>\n",
       "      <td>1</td>\n",
       "    </tr>\n",
       "    <tr>\n",
       "      <th>3</th>\n",
       "      <td>1</td>\n",
       "      <td>female</td>\n",
       "      <td>35.0</td>\n",
       "      <td>1</td>\n",
       "      <td>0</td>\n",
       "      <td>53.1000</td>\n",
       "      <td>False</td>\n",
       "      <td>C</td>\n",
       "      <td>Southampton</td>\n",
       "      <td>False</td>\n",
       "      <td>1</td>\n",
       "    </tr>\n",
       "    <tr>\n",
       "      <th>4</th>\n",
       "      <td>3</td>\n",
       "      <td>male</td>\n",
       "      <td>35.0</td>\n",
       "      <td>0</td>\n",
       "      <td>0</td>\n",
       "      <td>8.0500</td>\n",
       "      <td>True</td>\n",
       "      <td>NaN</td>\n",
       "      <td>Southampton</td>\n",
       "      <td>True</td>\n",
       "      <td>0</td>\n",
       "    </tr>\n",
       "  </tbody>\n",
       "</table>\n",
       "</div>"
      ],
      "text/plain": [
       "   pclass     sex   age  sibsp  parch     fare  adult_male deck  embark_town  \\\n",
       "0       3    male  22.0      1      0   7.2500        True  NaN  Southampton   \n",
       "1       1  female  38.0      1      0  71.2833       False    C    Cherbourg   \n",
       "2       3  female  26.0      0      0   7.9250       False  NaN  Southampton   \n",
       "3       1  female  35.0      1      0  53.1000       False    C  Southampton   \n",
       "4       3    male  35.0      0      0   8.0500        True  NaN  Southampton   \n",
       "\n",
       "   alone  Survived  \n",
       "0  False         0  \n",
       "1  False         1  \n",
       "2   True         1  \n",
       "3  False         1  \n",
       "4   True         0  "
      ]
     },
     "execution_count": 60,
     "metadata": {},
     "output_type": "execute_result"
    }
   ],
   "source": [
    "titanic.head()"
   ]
  },
  {
   "cell_type": "code",
   "execution_count": 61,
   "id": "4847806d",
   "metadata": {
    "execution": {
     "iopub.execute_input": "2022-10-13T13:44:26.311044Z",
     "iopub.status.busy": "2022-10-13T13:44:26.310747Z",
     "iopub.status.idle": "2022-10-13T13:44:26.315004Z",
     "shell.execute_reply": "2022-10-13T13:44:26.313922Z"
    },
    "papermill": {
     "duration": 0.05502,
     "end_time": "2022-10-13T13:44:26.317277",
     "exception": false,
     "start_time": "2022-10-13T13:44:26.262257",
     "status": "completed"
    },
    "tags": []
   },
   "outputs": [],
   "source": [
    "# SEX VS SURVIVAL "
   ]
  },
  {
   "cell_type": "code",
   "execution_count": 62,
   "id": "4109def8",
   "metadata": {
    "execution": {
     "iopub.execute_input": "2022-10-13T13:44:26.411483Z",
     "iopub.status.busy": "2022-10-13T13:44:26.411173Z",
     "iopub.status.idle": "2022-10-13T13:44:26.424989Z",
     "shell.execute_reply": "2022-10-13T13:44:26.424098Z"
    },
    "papermill": {
     "duration": 0.063617,
     "end_time": "2022-10-13T13:44:26.427333",
     "exception": false,
     "start_time": "2022-10-13T13:44:26.363716",
     "status": "completed"
    },
    "tags": []
   },
   "outputs": [
    {
     "data": {
      "text/plain": [
       "sex     Survived\n",
       "female  1           233\n",
       "        0            81\n",
       "male    0           468\n",
       "        1           109\n",
       "Name: Survived, dtype: int64"
      ]
     },
     "execution_count": 62,
     "metadata": {},
     "output_type": "execute_result"
    }
   ],
   "source": [
    "titanic.groupby('sex').Survived.value_counts()"
   ]
  },
  {
   "cell_type": "code",
   "execution_count": 63,
   "id": "1b2e03bb",
   "metadata": {
    "execution": {
     "iopub.execute_input": "2022-10-13T13:44:26.525975Z",
     "iopub.status.busy": "2022-10-13T13:44:26.525679Z",
     "iopub.status.idle": "2022-10-13T13:44:26.792329Z",
     "shell.execute_reply": "2022-10-13T13:44:26.791376Z"
    },
    "papermill": {
     "duration": 0.318591,
     "end_time": "2022-10-13T13:44:26.794762",
     "exception": false,
     "start_time": "2022-10-13T13:44:26.476171",
     "status": "completed"
    },
    "tags": []
   },
   "outputs": [
    {
     "data": {
      "text/plain": [
       "<AxesSubplot:xlabel='sex', ylabel='Survived'>"
      ]
     },
     "execution_count": 63,
     "metadata": {},
     "output_type": "execute_result"
    },
    {
     "data": {
      "image/png": "[encoded data removed]",
      "text/plain": [
       "<Figure size 432x288 with 1 Axes>"
      ]
     },
     "metadata": {
      "needs_background": "light"
     },
     "output_type": "display_data"
    }
   ],
   "source": [
    "sns.barplot(x='sex',y ='Survived',data = titanic)"
   ]
  },
  {
   "cell_type": "code",
   "execution_count": 64,
   "id": "2c195323",
   "metadata": {
    "execution": {
     "iopub.execute_input": "2022-10-13T13:44:26.895569Z",
     "iopub.status.busy": "2022-10-13T13:44:26.895243Z",
     "iopub.status.idle": "2022-10-13T13:44:26.899127Z",
     "shell.execute_reply": "2022-10-13T13:44:26.898180Z"
    },
    "papermill": {
     "duration": 0.057551,
     "end_time": "2022-10-13T13:44:26.901254",
     "exception": false,
     "start_time": "2022-10-13T13:44:26.843703",
     "status": "completed"
    },
    "tags": []
   },
   "outputs": [],
   "source": [
    "# PCLASS VS SURVIVAL"
   ]
  },
  {
   "cell_type": "code",
   "execution_count": 65,
   "id": "7655149d",
   "metadata": {
    "execution": {
     "iopub.execute_input": "2022-10-13T13:44:26.999563Z",
     "iopub.status.busy": "2022-10-13T13:44:26.999255Z",
     "iopub.status.idle": "2022-10-13T13:44:27.010606Z",
     "shell.execute_reply": "2022-10-13T13:44:27.009681Z"
    },
    "papermill": {
     "duration": 0.063678,
     "end_time": "2022-10-13T13:44:27.013066",
     "exception": false,
     "start_time": "2022-10-13T13:44:26.949388",
     "status": "completed"
    },
    "tags": []
   },
   "outputs": [
    {
     "data": {
      "text/plain": [
       "pclass  Survived\n",
       "1       1           136\n",
       "        0            80\n",
       "2       0            97\n",
       "        1            87\n",
       "3       0           372\n",
       "        1           119\n",
       "Name: Survived, dtype: int64"
      ]
     },
     "execution_count": 65,
     "metadata": {},
     "output_type": "execute_result"
    }
   ],
   "source": [
    "titanic.groupby('pclass').Survived.value_counts()"
   ]
  },
  {
   "cell_type": "code",
   "execution_count": 66,
   "id": "72ebae0e",
   "metadata": {
    "execution": {
     "iopub.execute_input": "2022-10-13T13:44:27.112066Z",
     "iopub.status.busy": "2022-10-13T13:44:27.111766Z",
     "iopub.status.idle": "2022-10-13T13:44:27.367652Z",
     "shell.execute_reply": "2022-10-13T13:44:27.366631Z"
    },
    "papermill": {
     "duration": 0.307458,
     "end_time": "2022-10-13T13:44:27.369824",
     "exception": false,
     "start_time": "2022-10-13T13:44:27.062366",
     "status": "completed"
    },
    "tags": []
   },
   "outputs": [
    {
     "data": {
      "text/plain": [
       "<AxesSubplot:xlabel='pclass', ylabel='Survived'>"
      ]
     },
     "execution_count": 66,
     "metadata": {},
     "output_type": "execute_result"
    },
    {
     "data": {
      "image/png": "[encoded data removed]",
      "text/plain": [
       "<Figure size 432x288 with 1 Axes>"
      ]
     },
     "metadata": {
      "needs_background": "light"
     },
     "output_type": "display_data"
    }
   ],
   "source": [
    "sns.barplot(x='pclass',y ='Survived',data = titanic)"
   ]
  },
  {
   "cell_type": "code",
   "execution_count": 67,
   "id": "f7f3c63d",
   "metadata": {
    "execution": {
     "iopub.execute_input": "2022-10-13T13:44:27.472249Z",
     "iopub.status.busy": "2022-10-13T13:44:27.471941Z",
     "iopub.status.idle": "2022-10-13T13:44:27.476502Z",
     "shell.execute_reply": "2022-10-13T13:44:27.475811Z"
    },
    "papermill": {
     "duration": 0.057826,
     "end_time": "2022-10-13T13:44:27.478567",
     "exception": false,
     "start_time": "2022-10-13T13:44:27.420741",
     "status": "completed"
    },
    "tags": []
   },
   "outputs": [
    {
     "name": "stdout",
     "output_type": "stream",
     "text": [
      "From above graph it is visualized that 1 pclass have better survival ration as compare to others\n"
     ]
    }
   ],
   "source": [
    "print(\"From above graph it is visualized that 1 pclass have better survival ration as compare to others\")"
   ]
  },
  {
   "cell_type": "code",
   "execution_count": 68,
   "id": "c7a4c537",
   "metadata": {
    "execution": {
     "iopub.execute_input": "2022-10-13T13:44:27.580616Z",
     "iopub.status.busy": "2022-10-13T13:44:27.580324Z",
     "iopub.status.idle": "2022-10-13T13:44:27.583712Z",
     "shell.execute_reply": "2022-10-13T13:44:27.582958Z"
    },
    "papermill": {
     "duration": 0.056714,
     "end_time": "2022-10-13T13:44:27.585586",
     "exception": false,
     "start_time": "2022-10-13T13:44:27.528872",
     "status": "completed"
    },
    "tags": []
   },
   "outputs": [],
   "source": [
    "# FARE VS SUVIVAL"
   ]
  },
  {
   "cell_type": "code",
   "execution_count": 69,
   "id": "537ce2cb",
   "metadata": {
    "execution": {
     "iopub.execute_input": "2022-10-13T13:44:27.687386Z",
     "iopub.status.busy": "2022-10-13T13:44:27.687103Z",
     "iopub.status.idle": "2022-10-13T13:44:27.698843Z",
     "shell.execute_reply": "2022-10-13T13:44:27.698057Z"
    },
    "papermill": {
     "duration": 0.065331,
     "end_time": "2022-10-13T13:44:27.701024",
     "exception": false,
     "start_time": "2022-10-13T13:44:27.635693",
     "status": "completed"
    },
    "tags": []
   },
   "outputs": [
    {
     "data": {
      "text/plain": [
       "Survived  fare    \n",
       "0         8.0500      38\n",
       "          7.8958      37\n",
       "          13.0000     26\n",
       "          7.7500      22\n",
       "          26.0000     16\n",
       "                      ..\n",
       "1         82.1708      1\n",
       "          83.4750      1\n",
       "          106.4250     1\n",
       "          108.9000     1\n",
       "          247.5208     1\n",
       "Name: fare, Length: 330, dtype: int64"
      ]
     },
     "execution_count": 69,
     "metadata": {},
     "output_type": "execute_result"
    }
   ],
   "source": [
    "titanic.groupby('Survived').fare.value_counts()"
   ]
  },
  {
   "cell_type": "code",
   "execution_count": 70,
   "id": "f3074389",
   "metadata": {
    "execution": {
     "iopub.execute_input": "2022-10-13T13:44:27.805190Z",
     "iopub.status.busy": "2022-10-13T13:44:27.804543Z",
     "iopub.status.idle": "2022-10-13T13:44:28.007902Z",
     "shell.execute_reply": "2022-10-13T13:44:28.007005Z"
    },
    "papermill": {
     "duration": 0.257635,
     "end_time": "2022-10-13T13:44:28.010087",
     "exception": false,
     "start_time": "2022-10-13T13:44:27.752452",
     "status": "completed"
    },
    "tags": []
   },
   "outputs": [
    {
     "data": {
      "text/plain": [
       "<AxesSubplot:xlabel='fare', ylabel='Survived'>"
      ]
     },
     "execution_count": 70,
     "metadata": {},
     "output_type": "execute_result"
    },
    {
     "data": {
      "image/png": "[encoded data removed]",
      "text/plain": [
       "<Figure size 432x288 with 1 Axes>"
      ]
     },
     "metadata": {
      "needs_background": "light"
     },
     "output_type": "display_data"
    }
   ],
   "source": [
    "\n",
    "sns.lineplot(x= titanic['fare'],y = titanic['Survived'],ci = None)"
   ]
  },
  {
   "cell_type": "code",
   "execution_count": 71,
   "id": "deb6d6e1",
   "metadata": {
    "execution": {
     "iopub.execute_input": "2022-10-13T13:44:28.115718Z",
     "iopub.status.busy": "2022-10-13T13:44:28.115387Z",
     "iopub.status.idle": "2022-10-13T13:44:28.325837Z",
     "shell.execute_reply": "2022-10-13T13:44:28.325071Z"
    },
    "papermill": {
     "duration": 0.265749,
     "end_time": "2022-10-13T13:44:28.327983",
     "exception": false,
     "start_time": "2022-10-13T13:44:28.062234",
     "status": "completed"
    },
    "tags": []
   },
   "outputs": [
    {
     "data": {
      "text/plain": [
       "<AxesSubplot:xlabel='Survived', ylabel='fare'>"
      ]
     },
     "execution_count": 71,
     "metadata": {},
     "output_type": "execute_result"
    },
    {
     "data": {
      "image/png": "[encoded data removed]",
      "text/plain": [
       "<Figure size 432x288 with 1 Axes>"
      ]
     },
     "metadata": {
      "needs_background": "light"
     },
     "output_type": "display_data"
    }
   ],
   "source": [
    "sns.barplot(x = 'Survived',y = 'fare',data = titanic)"
   ]
  },
  {
   "cell_type": "code",
   "execution_count": 72,
   "id": "e7eb15bb",
   "metadata": {
    "execution": {
     "iopub.execute_input": "2022-10-13T13:44:28.436778Z",
     "iopub.status.busy": "2022-10-13T13:44:28.435968Z",
     "iopub.status.idle": "2022-10-13T13:44:28.600372Z",
     "shell.execute_reply": "2022-10-13T13:44:28.599693Z"
    },
    "papermill": {
     "duration": 0.220812,
     "end_time": "2022-10-13T13:44:28.602377",
     "exception": false,
     "start_time": "2022-10-13T13:44:28.381565",
     "status": "completed"
    },
    "tags": []
   },
   "outputs": [
    {
     "data": {
      "text/plain": [
       "<AxesSubplot:xlabel='Survived', ylabel='fare'>"
      ]
     },
     "execution_count": 72,
     "metadata": {},
     "output_type": "execute_result"
    },
    {
     "data": {
      "image/png": "[encoded data removed]",
      "text/plain": [
       "<Figure size 432x288 with 1 Axes>"
      ]
     },
     "metadata": {
      "needs_background": "light"
     },
     "output_type": "display_data"
    }
   ],
   "source": [
    "\n",
    "sns.boxplot(x='Survived',y = 'fare',data = titanic)"
   ]
  },
  {
   "cell_type": "code",
   "execution_count": 73,
   "id": "594a6795",
   "metadata": {
    "execution": {
     "iopub.execute_input": "2022-10-13T13:44:28.712454Z",
     "iopub.status.busy": "2022-10-13T13:44:28.711897Z",
     "iopub.status.idle": "2022-10-13T13:44:28.715264Z",
     "shell.execute_reply": "2022-10-13T13:44:28.714599Z"
    },
    "papermill": {
     "duration": 0.061036,
     "end_time": "2022-10-13T13:44:28.717335",
     "exception": false,
     "start_time": "2022-10-13T13:44:28.656299",
     "status": "completed"
    },
    "tags": []
   },
   "outputs": [],
   "source": [
    "# SEX & PCLASS VS SURVIVAL"
   ]
  },
  {
   "cell_type": "code",
   "execution_count": 74,
   "id": "cbc04ae2",
   "metadata": {
    "execution": {
     "iopub.execute_input": "2022-10-13T13:44:28.830717Z",
     "iopub.status.busy": "2022-10-13T13:44:28.830334Z",
     "iopub.status.idle": "2022-10-13T13:44:28.841894Z",
     "shell.execute_reply": "2022-10-13T13:44:28.840920Z"
    },
    "papermill": {
     "duration": 0.069992,
     "end_time": "2022-10-13T13:44:28.844155",
     "exception": false,
     "start_time": "2022-10-13T13:44:28.774163",
     "status": "completed"
    },
    "tags": []
   },
   "outputs": [
    {
     "data": {
      "text/plain": [
       "sex     pclass  Survived\n",
       "female  1       1            91\n",
       "                0             3\n",
       "        2       1            70\n",
       "                0             6\n",
       "        3       0            72\n",
       "                1            72\n",
       "male    1       0            77\n",
       "                1            45\n",
       "        2       0            91\n",
       "                1            17\n",
       "        3       0           300\n",
       "                1            47\n",
       "Name: Survived, dtype: int64"
      ]
     },
     "execution_count": 74,
     "metadata": {},
     "output_type": "execute_result"
    }
   ],
   "source": [
    "titanic.groupby(['sex','pclass']).Survived.value_counts()"
   ]
  },
  {
   "cell_type": "code",
   "execution_count": 75,
   "id": "0127342e",
   "metadata": {
    "execution": {
     "iopub.execute_input": "2022-10-13T13:44:28.956206Z",
     "iopub.status.busy": "2022-10-13T13:44:28.955317Z",
     "iopub.status.idle": "2022-10-13T13:44:29.270318Z",
     "shell.execute_reply": "2022-10-13T13:44:29.269555Z"
    },
    "papermill": {
     "duration": 0.373345,
     "end_time": "2022-10-13T13:44:29.272591",
     "exception": false,
     "start_time": "2022-10-13T13:44:28.899246",
     "status": "completed"
    },
    "tags": []
   },
   "outputs": [
    {
     "data": {
      "text/plain": [
       "<AxesSubplot:xlabel='pclass', ylabel='Survived'>"
      ]
     },
     "execution_count": 75,
     "metadata": {},
     "output_type": "execute_result"
    },
    {
     "data": {
      "image/png": "[encoded data removed]",
      "text/plain": [
       "<Figure size 432x288 with 1 Axes>"
      ]
     },
     "metadata": {
      "needs_background": "light"
     },
     "output_type": "display_data"
    }
   ],
   "source": [
    "sns.barplot(x='pclass',y='Survived',hue='sex',data = titanic)"
   ]
  },
  {
   "cell_type": "code",
   "execution_count": 76,
   "id": "c7c035e8",
   "metadata": {
    "execution": {
     "iopub.execute_input": "2022-10-13T13:44:29.389095Z",
     "iopub.status.busy": "2022-10-13T13:44:29.388622Z",
     "iopub.status.idle": "2022-10-13T13:44:29.393862Z",
     "shell.execute_reply": "2022-10-13T13:44:29.392862Z"
    },
    "papermill": {
     "duration": 0.064871,
     "end_time": "2022-10-13T13:44:29.396096",
     "exception": false,
     "start_time": "2022-10-13T13:44:29.331225",
     "status": "completed"
    },
    "tags": []
   },
   "outputs": [
    {
     "name": "stdout",
     "output_type": "stream",
     "text": [
      "1 pclass female have better survival than other class female\n"
     ]
    }
   ],
   "source": [
    "print(\"1 pclass female have better survival than other class female\")\n"
   ]
  },
  {
   "cell_type": "code",
   "execution_count": 77,
   "id": "d391b887",
   "metadata": {
    "execution": {
     "iopub.execute_input": "2022-10-13T13:44:29.510201Z",
     "iopub.status.busy": "2022-10-13T13:44:29.509920Z",
     "iopub.status.idle": "2022-10-13T13:44:29.513455Z",
     "shell.execute_reply": "2022-10-13T13:44:29.512565Z"
    },
    "papermill": {
     "duration": 0.063526,
     "end_time": "2022-10-13T13:44:29.515573",
     "exception": false,
     "start_time": "2022-10-13T13:44:29.452047",
     "status": "completed"
    },
    "tags": []
   },
   "outputs": [],
   "source": [
    "# EMBARK_TOWN VS SURVIVAL\n"
   ]
  },
  {
   "cell_type": "code",
   "execution_count": 78,
   "id": "b3544786",
   "metadata": {
    "execution": {
     "iopub.execute_input": "2022-10-13T13:44:29.630343Z",
     "iopub.status.busy": "2022-10-13T13:44:29.629792Z",
     "iopub.status.idle": "2022-10-13T13:44:29.639028Z",
     "shell.execute_reply": "2022-10-13T13:44:29.638187Z"
    },
    "papermill": {
     "duration": 0.068747,
     "end_time": "2022-10-13T13:44:29.641007",
     "exception": false,
     "start_time": "2022-10-13T13:44:29.572260",
     "status": "completed"
    },
    "tags": []
   },
   "outputs": [
    {
     "data": {
      "text/plain": [
       "embark_town  Survived\n",
       "Cherbourg    1            93\n",
       "             0            75\n",
       "Queenstown   0            47\n",
       "             1            30\n",
       "Southampton  0           427\n",
       "             1           217\n",
       "Name: Survived, dtype: int64"
      ]
     },
     "execution_count": 78,
     "metadata": {},
     "output_type": "execute_result"
    }
   ],
   "source": [
    "titanic.groupby('embark_town').Survived.value_counts()"
   ]
  },
  {
   "cell_type": "code",
   "execution_count": 79,
   "id": "1cfe4dc9",
   "metadata": {
    "execution": {
     "iopub.execute_input": "2022-10-13T13:44:29.755999Z",
     "iopub.status.busy": "2022-10-13T13:44:29.755707Z",
     "iopub.status.idle": "2022-10-13T13:44:29.968472Z",
     "shell.execute_reply": "2022-10-13T13:44:29.967738Z"
    },
    "papermill": {
     "duration": 0.273236,
     "end_time": "2022-10-13T13:44:29.970621",
     "exception": false,
     "start_time": "2022-10-13T13:44:29.697385",
     "status": "completed"
    },
    "tags": []
   },
   "outputs": [
    {
     "data": {
      "text/plain": [
       "<AxesSubplot:xlabel='embark_town', ylabel='Survived'>"
      ]
     },
     "execution_count": 79,
     "metadata": {},
     "output_type": "execute_result"
    },
    {
     "data": {
      "image/png": "[encoded data removed]",
      "text/plain": [
       "<Figure size 432x288 with 1 Axes>"
      ]
     },
     "metadata": {
      "needs_background": "light"
     },
     "output_type": "display_data"
    }
   ],
   "source": [
    "sns.barplot(x='embark_town',y = 'Survived',data = titanic)"
   ]
  },
  {
   "cell_type": "code",
   "execution_count": 80,
   "id": "900d75f3",
   "metadata": {
    "execution": {
     "iopub.execute_input": "2022-10-13T13:44:30.090346Z",
     "iopub.status.busy": "2022-10-13T13:44:30.089683Z",
     "iopub.status.idle": "2022-10-13T13:44:30.095278Z",
     "shell.execute_reply": "2022-10-13T13:44:30.094200Z"
    },
    "papermill": {
     "duration": 0.068394,
     "end_time": "2022-10-13T13:44:30.097242",
     "exception": false,
     "start_time": "2022-10-13T13:44:30.028848",
     "status": "completed"
    },
    "tags": []
   },
   "outputs": [
    {
     "name": "stdout",
     "output_type": "stream",
     "text": [
      "Cherbourg embark has better survival ratio than other\n"
     ]
    }
   ],
   "source": [
    "print(\"Cherbourg embark has better survival ratio than other\")"
   ]
  },
  {
   "cell_type": "code",
   "execution_count": 81,
   "id": "fb1869f9",
   "metadata": {
    "execution": {
     "iopub.execute_input": "2022-10-13T13:44:30.216122Z",
     "iopub.status.busy": "2022-10-13T13:44:30.215242Z",
     "iopub.status.idle": "2022-10-13T13:44:30.219426Z",
     "shell.execute_reply": "2022-10-13T13:44:30.218786Z"
    },
    "papermill": {
     "duration": 0.065605,
     "end_time": "2022-10-13T13:44:30.221528",
     "exception": false,
     "start_time": "2022-10-13T13:44:30.155923",
     "status": "completed"
    },
    "tags": []
   },
   "outputs": [],
   "source": [
    "# ADULT_MALE VS SURVIVAL"
   ]
  },
  {
   "cell_type": "code",
   "execution_count": 82,
   "id": "9545ccb9",
   "metadata": {
    "execution": {
     "iopub.execute_input": "2022-10-13T13:44:30.341476Z",
     "iopub.status.busy": "2022-10-13T13:44:30.341017Z",
     "iopub.status.idle": "2022-10-13T13:44:30.353574Z",
     "shell.execute_reply": "2022-10-13T13:44:30.352669Z"
    },
    "papermill": {
     "duration": 0.075966,
     "end_time": "2022-10-13T13:44:30.355753",
     "exception": false,
     "start_time": "2022-10-13T13:44:30.279787",
     "status": "completed"
    },
    "tags": []
   },
   "outputs": [
    {
     "data": {
      "text/plain": [
       "adult_male  Survived\n",
       "False       1           254\n",
       "            0           100\n",
       "True        0           449\n",
       "            1            88\n",
       "Name: Survived, dtype: int64"
      ]
     },
     "execution_count": 82,
     "metadata": {},
     "output_type": "execute_result"
    }
   ],
   "source": [
    "titanic.groupby('adult_male').Survived.value_counts()"
   ]
  },
  {
   "cell_type": "code",
   "execution_count": 83,
   "id": "4420717d",
   "metadata": {
    "execution": {
     "iopub.execute_input": "2022-10-13T13:44:30.475038Z",
     "iopub.status.busy": "2022-10-13T13:44:30.474428Z",
     "iopub.status.idle": "2022-10-13T13:44:30.647875Z",
     "shell.execute_reply": "2022-10-13T13:44:30.646954Z"
    },
    "papermill": {
     "duration": 0.235708,
     "end_time": "2022-10-13T13:44:30.650065",
     "exception": false,
     "start_time": "2022-10-13T13:44:30.414357",
     "status": "completed"
    },
    "tags": []
   },
   "outputs": [
    {
     "data": {
      "text/plain": [
       "<AxesSubplot:xlabel='adult_male', ylabel='Survived'>"
      ]
     },
     "execution_count": 83,
     "metadata": {},
     "output_type": "execute_result"
    },
    {
     "data": {
      "image/png": "[encoded data removed]",
      "text/plain": [
       "<Figure size 432x288 with 1 Axes>"
      ]
     },
     "metadata": {
      "needs_background": "light"
     },
     "output_type": "display_data"
    }
   ],
   "source": [
    "sns.barplot(x='adult_male',y = 'Survived',data = titanic)"
   ]
  },
  {
   "cell_type": "code",
   "execution_count": 84,
   "id": "2f5298d3",
   "metadata": {
    "execution": {
     "iopub.execute_input": "2022-10-13T13:44:30.770205Z",
     "iopub.status.busy": "2022-10-13T13:44:30.769922Z",
     "iopub.status.idle": "2022-10-13T13:44:30.773607Z",
     "shell.execute_reply": "2022-10-13T13:44:30.772727Z"
    },
    "papermill": {
     "duration": 0.066711,
     "end_time": "2022-10-13T13:44:30.775746",
     "exception": false,
     "start_time": "2022-10-13T13:44:30.709035",
     "status": "completed"
    },
    "tags": []
   },
   "outputs": [],
   "source": [
    "#  ALONE VS SURVIVAL"
   ]
  },
  {
   "cell_type": "code",
   "execution_count": 85,
   "id": "86da8c3a",
   "metadata": {
    "execution": {
     "iopub.execute_input": "2022-10-13T13:44:30.896088Z",
     "iopub.status.busy": "2022-10-13T13:44:30.895773Z",
     "iopub.status.idle": "2022-10-13T13:44:31.068521Z",
     "shell.execute_reply": "2022-10-13T13:44:31.067570Z"
    },
    "papermill": {
     "duration": 0.235605,
     "end_time": "2022-10-13T13:44:31.070833",
     "exception": false,
     "start_time": "2022-10-13T13:44:30.835228",
     "status": "completed"
    },
    "tags": []
   },
   "outputs": [
    {
     "data": {
      "text/plain": [
       "<AxesSubplot:xlabel='alone', ylabel='Survived'>"
      ]
     },
     "execution_count": 85,
     "metadata": {},
     "output_type": "execute_result"
    },
    {
     "data": {
      "image/png": "[encoded data removed]",
      "text/plain": [
       "<Figure size 432x288 with 1 Axes>"
      ]
     },
     "metadata": {
      "needs_background": "light"
     },
     "output_type": "display_data"
    }
   ],
   "source": [
    "titanic.groupby('alone').Survived.value_counts()\n",
    "sns.barplot(x='alone',y = 'Survived',data = titanic)"
   ]
  },
  {
   "cell_type": "code",
   "execution_count": 86,
   "id": "4cc1f2c9",
   "metadata": {
    "execution": {
     "iopub.execute_input": "2022-10-13T13:44:31.196253Z",
     "iopub.status.busy": "2022-10-13T13:44:31.195538Z",
     "iopub.status.idle": "2022-10-13T13:44:31.199610Z",
     "shell.execute_reply": "2022-10-13T13:44:31.198969Z"
    },
    "papermill": {
     "duration": 0.069315,
     "end_time": "2022-10-13T13:44:31.201750",
     "exception": false,
     "start_time": "2022-10-13T13:44:31.132435",
     "status": "completed"
    },
    "tags": []
   },
   "outputs": [],
   "source": [
    "#  SIBSP VS SURVIVAL"
   ]
  },
  {
   "cell_type": "code",
   "execution_count": 87,
   "id": "f6b7688b",
   "metadata": {
    "execution": {
     "iopub.execute_input": "2022-10-13T13:44:31.327912Z",
     "iopub.status.busy": "2022-10-13T13:44:31.326979Z",
     "iopub.status.idle": "2022-10-13T13:44:31.337022Z",
     "shell.execute_reply": "2022-10-13T13:44:31.335959Z"
    },
    "papermill": {
     "duration": 0.075198,
     "end_time": "2022-10-13T13:44:31.339272",
     "exception": false,
     "start_time": "2022-10-13T13:44:31.264074",
     "status": "completed"
    },
    "tags": []
   },
   "outputs": [
    {
     "data": {
      "text/plain": [
       "sibsp  Survived\n",
       "0      0           398\n",
       "       1           210\n",
       "1      1           112\n",
       "       0            97\n",
       "2      0            15\n",
       "       1            13\n",
       "3      0            12\n",
       "       1             4\n",
       "4      0            15\n",
       "       1             3\n",
       "5      0             5\n",
       "8      0             7\n",
       "Name: Survived, dtype: int64"
      ]
     },
     "execution_count": 87,
     "metadata": {},
     "output_type": "execute_result"
    }
   ],
   "source": [
    "titanic.groupby('sibsp').Survived.value_counts()"
   ]
  },
  {
   "cell_type": "code",
   "execution_count": 88,
   "id": "2f0a64d2",
   "metadata": {
    "execution": {
     "iopub.execute_input": "2022-10-13T13:44:31.465440Z",
     "iopub.status.busy": "2022-10-13T13:44:31.464998Z",
     "iopub.status.idle": "2022-10-13T13:44:31.788816Z",
     "shell.execute_reply": "2022-10-13T13:44:31.787980Z"
    },
    "papermill": {
     "duration": 0.389777,
     "end_time": "2022-10-13T13:44:31.791235",
     "exception": false,
     "start_time": "2022-10-13T13:44:31.401458",
     "status": "completed"
    },
    "tags": []
   },
   "outputs": [
    {
     "data": {
      "text/plain": [
       "<AxesSubplot:xlabel='sibsp', ylabel='Survived'>"
      ]
     },
     "execution_count": 88,
     "metadata": {},
     "output_type": "execute_result"
    },
    {
     "data": {
      "image/png": "[encoded data removed]",
      "text/plain": [
       "<Figure size 432x288 with 1 Axes>"
      ]
     },
     "metadata": {
      "needs_background": "light"
     },
     "output_type": "display_data"
    }
   ],
   "source": [
    "\n",
    "sns.barplot(x='sibsp',y = 'Survived',data = titanic)"
   ]
  },
  {
   "cell_type": "code",
   "execution_count": 89,
   "id": "4f5a30fe",
   "metadata": {
    "execution": {
     "iopub.execute_input": "2022-10-13T13:44:31.919582Z",
     "iopub.status.busy": "2022-10-13T13:44:31.919021Z",
     "iopub.status.idle": "2022-10-13T13:44:31.924746Z",
     "shell.execute_reply": "2022-10-13T13:44:31.923492Z"
    },
    "papermill": {
     "duration": 0.073641,
     "end_time": "2022-10-13T13:44:31.927031",
     "exception": false,
     "start_time": "2022-10-13T13:44:31.853390",
     "status": "completed"
    },
    "tags": []
   },
   "outputs": [
    {
     "name": "stdout",
     "output_type": "stream",
     "text": [
      "Passengers having  no.of siblings is 1 has better survival ratio than other \n"
     ]
    }
   ],
   "source": [
    "print(\"Passengers having  no.of siblings is 1 has better survival ratio than other \")"
   ]
  },
  {
   "cell_type": "code",
   "execution_count": 90,
   "id": "4a04c055",
   "metadata": {
    "execution": {
     "iopub.execute_input": "2022-10-13T13:44:32.054604Z",
     "iopub.status.busy": "2022-10-13T13:44:32.054282Z",
     "iopub.status.idle": "2022-10-13T13:44:32.058272Z",
     "shell.execute_reply": "2022-10-13T13:44:32.057141Z"
    },
    "papermill": {
     "duration": 0.069523,
     "end_time": "2022-10-13T13:44:32.060388",
     "exception": false,
     "start_time": "2022-10-13T13:44:31.990865",
     "status": "completed"
    },
    "tags": []
   },
   "outputs": [],
   "source": [
    "# PARCH VS SURVIVAL"
   ]
  },
  {
   "cell_type": "code",
   "execution_count": 91,
   "id": "e81de0dc",
   "metadata": {
    "execution": {
     "iopub.execute_input": "2022-10-13T13:44:32.190546Z",
     "iopub.status.busy": "2022-10-13T13:44:32.190259Z",
     "iopub.status.idle": "2022-10-13T13:44:32.200182Z",
     "shell.execute_reply": "2022-10-13T13:44:32.199146Z"
    },
    "papermill": {
     "duration": 0.07816,
     "end_time": "2022-10-13T13:44:32.202107",
     "exception": false,
     "start_time": "2022-10-13T13:44:32.123947",
     "status": "completed"
    },
    "tags": []
   },
   "outputs": [
    {
     "data": {
      "text/plain": [
       "parch  Survived\n",
       "0      0           445\n",
       "       1           233\n",
       "1      1            65\n",
       "       0            53\n",
       "2      0            40\n",
       "       1            40\n",
       "3      1             3\n",
       "       0             2\n",
       "4      0             4\n",
       "5      0             4\n",
       "       1             1\n",
       "6      0             1\n",
       "Name: Survived, dtype: int64"
      ]
     },
     "execution_count": 91,
     "metadata": {},
     "output_type": "execute_result"
    }
   ],
   "source": [
    "titanic.groupby('parch').Survived.value_counts()\n"
   ]
  },
  {
   "cell_type": "code",
   "execution_count": 92,
   "id": "70a31d2e",
   "metadata": {
    "execution": {
     "iopub.execute_input": "2022-10-13T13:44:32.330419Z",
     "iopub.status.busy": "2022-10-13T13:44:32.329826Z",
     "iopub.status.idle": "2022-10-13T13:44:32.622235Z",
     "shell.execute_reply": "2022-10-13T13:44:32.621561Z"
    },
    "papermill": {
     "duration": 0.359084,
     "end_time": "2022-10-13T13:44:32.624275",
     "exception": false,
     "start_time": "2022-10-13T13:44:32.265191",
     "status": "completed"
    },
    "tags": []
   },
   "outputs": [
    {
     "data": {
      "text/plain": [
       "<AxesSubplot:xlabel='parch', ylabel='Survived'>"
      ]
     },
     "execution_count": 92,
     "metadata": {},
     "output_type": "execute_result"
    },
    {
     "data": {
      "image/png": "[encoded data removed]",
      "text/plain": [
       "<Figure size 432x288 with 1 Axes>"
      ]
     },
     "metadata": {
      "needs_background": "light"
     },
     "output_type": "display_data"
    }
   ],
   "source": [
    "sns.barplot(x='parch',y='Survived',data = titanic)"
   ]
  },
  {
   "cell_type": "code",
   "execution_count": 93,
   "id": "a7b5a1ce",
   "metadata": {
    "execution": {
     "iopub.execute_input": "2022-10-13T13:44:32.754611Z",
     "iopub.status.busy": "2022-10-13T13:44:32.753656Z",
     "iopub.status.idle": "2022-10-13T13:44:32.759350Z",
     "shell.execute_reply": "2022-10-13T13:44:32.758533Z"
    },
    "papermill": {
     "duration": 0.073356,
     "end_time": "2022-10-13T13:44:32.761389",
     "exception": false,
     "start_time": "2022-10-13T13:44:32.688033",
     "status": "completed"
    },
    "tags": []
   },
   "outputs": [
    {
     "name": "stdout",
     "output_type": "stream",
     "text": [
      "parch with 3 have better survival ratio than other \n"
     ]
    }
   ],
   "source": [
    "print(\"parch with 3 have better survival ratio than other \")"
   ]
  },
  {
   "cell_type": "code",
   "execution_count": null,
   "id": "4d60bca0",
   "metadata": {
    "papermill": {
     "duration": 0.063525,
     "end_time": "2022-10-13T13:44:32.889366",
     "exception": false,
     "start_time": "2022-10-13T13:44:32.825841",
     "status": "completed"
    },
    "tags": []
   },
   "outputs": [],
   "source": []
  }
 ],
 "metadata": {
  "kernelspec": {
   "display_name": "Python 3 (ipykernel)",
   "language": "python",
   "name": "python3"
  },
  "language_info": {
   "codemirror_mode": {
    "name": "ipython",
    "version": 3
   },
   "file_extension": ".py",
   "mimetype": "text/x-python",
   "name": "python",
   "nbconvert_exporter": "python",
   "pygments_lexer": "ipython3",
   "version": "3.9.6"
  },
  "papermill": {
   "default_parameters": {},
   "duration": 21.545374,
   "end_time": "2022-10-13T13:44:33.795522",
   "environment_variables": {},
   "exception": null,
   "input_path": "__notebook__.ipynb",
   "output_path": "__notebook__.ipynb",
   "parameters": {},
   "start_time": "2022-10-13T13:44:12.250148",
   "version": "2.3.4"
  }
 },
 "nbformat": 4,
 "nbformat_minor": 5
}
